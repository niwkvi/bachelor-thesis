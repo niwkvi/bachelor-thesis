{
  "cells": [
    {
      "cell_type": "markdown",
      "source": [
        "# **YOLOv5-StrongSORT-GSI**"
      ],
      "metadata": {
        "id": "9faK9PyyMBSh"
      }
    },
    {
      "cell_type": "markdown",
      "source": [
        "Реализована модель YOLOv5-StrongSORT-GSI\n",
        "*   Модель детектирования YOLOv5\n",
        "*   Алгоритм трекинга StrongSORT\n",
        "*   Метод постобработки GSI (линейная интерполяция и гауссовское сглаживание)\n",
        "\n"
      ],
      "metadata": {
        "id": "rLvonsl4MK6V"
      }
    },
    {
      "cell_type": "code",
      "execution_count": null,
      "metadata": {
        "id": "fx0MKUlinL8G"
      },
      "outputs": [],
      "source": [
        "from google.colab import drive\n",
        "\n",
        "drive.mount('/content/drive', force_remount=True)"
      ]
    },
    {
      "cell_type": "code",
      "execution_count": null,
      "metadata": {
        "id": "FgSUzJOe2EzD"
      },
      "outputs": [],
      "source": [
        "import os\n",
        "import shutil\n",
        "import numpy as np\n",
        "\n",
        "from PIL import Image\n",
        "from os.path import join\n",
        "from pathlib import Path\n",
        "from collections import defaultdict\n",
        "\n",
        "import torch\n",
        "\n",
        "from sklearn.gaussian_process.kernels import RBF, Matern, ExpSineSquared, ConstantKernel\n",
        "from sklearn.gaussian_process import GaussianProcessRegressor as GPR"
      ]
    },
    {
      "cell_type": "markdown",
      "metadata": {
        "id": "vnUfuqKTo8Nf"
      },
      "source": [
        "# **VisDrone to YOLO**"
      ]
    },
    {
      "cell_type": "code",
      "execution_count": null,
      "metadata": {
        "id": "hKLUFbQ8A5Sf"
      },
      "outputs": [],
      "source": [
        "def rename_images(path):\n",
        "    for folder in os.listdir(path):\n",
        "        for image in os.listdir(os.path.join(path, folder)):\n",
        "            temp = os.path.join(path, folder)\n",
        "            os.rename(os.path.join(temp, image), temp + ' ' + image)\n",
        "        shutil.rmtree(os.path.join(path, folder))"
      ]
    },
    {
      "cell_type": "code",
      "execution_count": null,
      "metadata": {
        "id": "13xVBsJ_o8Nv"
      },
      "outputs": [],
      "source": [
        "def get_label(path):\n",
        "    with open(path, 'r') as f:\n",
        "        label = [line.strip('\\n').split(',') for line in f.readlines()]\n",
        "    return label"
      ]
    },
    {
      "cell_type": "code",
      "execution_count": null,
      "metadata": {
        "id": "MDv2F8ZTqaeD"
      },
      "outputs": [],
      "source": [
        "def split_label_by_frames(label, frames_num):\n",
        "    labels = [[] for _ in range(frames_num)]\n",
        "    for i in range(len(label)):\n",
        "        labels[int(label[i][0]) - 1].append(label[i])\n",
        "    return labels"
      ]
    },
    {
      "cell_type": "code",
      "execution_count": null,
      "metadata": {
        "id": "2_hYy-I8o8Nv"
      },
      "outputs": [],
      "source": [
        "def convert_box(size, box):\n",
        "    dw = 1. / size[1]\n",
        "    dh = 1. / size[0]\n",
        "    return [str((int(box[0]) + int(box[2]) / 2) * dw), \n",
        "            str((int(box[1]) + int(box[3]) / 2) * dh), \n",
        "            str(int(box[2]) * dw), \n",
        "            str(int(box[3]) * dh)]"
      ]
    },
    {
      "cell_type": "code",
      "execution_count": null,
      "metadata": {
        "id": "QEK6o0eMo8Nw"
      },
      "outputs": [],
      "source": [
        "def visdrone_to_yolo(labels, sizes):\n",
        "    new_labels = [[[labels[i][j][k] for k in range(len(labels[i][j]))\n",
        "                    if k != 0 and k != 1 and k != 6 and k != 8 and k != 9]\n",
        "                   for j in range(len(labels[i]))] for i in range(len(labels))]\n",
        "    \n",
        "    yolo_labels = [[[new_labels[i][j][4]] for j in range(len(new_labels[i]))] for i in range(len(new_labels))]\n",
        "    \n",
        "    for i in range(len(new_labels)):\n",
        "        for j in range(len(new_labels[i])):\n",
        "            yolo_labels[i][j].extend(convert_box(sizes[i], new_labels[i][j]))\n",
        "\n",
        "    return yolo_labels"
      ]
    },
    {
      "cell_type": "code",
      "execution_count": null,
      "metadata": {
        "id": "xYMu9BhHGW69"
      },
      "outputs": [],
      "source": [
        "def labels_to_txt(right_labels, file, labels_path, images_path):\n",
        "    os.remove(os.path.join(labels_path, file))\n",
        "    images = [image for image in os.listdir(images_path) if image.startswith(file.rstrip('.txt'))]\n",
        "\n",
        "    for i in range(len(right_labels)):\n",
        "        temp = os.path.join(labels_path, images[i].rstrip('.jpg'))\n",
        "        with open(os.path.join(temp, '.txt'), 'w') as f:\n",
        "            for j in range(len(right_labels[i])):\n",
        "                f.write(' '.join(right_labels[i][j]))\n",
        "                if j != len(right_labels[i]) - 1:\n",
        "                    f.write('\\n')"
      ]
    },
    {
      "cell_type": "markdown",
      "metadata": {
        "id": "5r4VPr1bo8Nw"
      },
      "source": [
        "**train**"
      ]
    },
    {
      "cell_type": "code",
      "execution_count": null,
      "metadata": {
        "id": "xikkGXyZLTwa"
      },
      "outputs": [],
      "source": [
        "train_images_path = '/content/drive/MyDrive/dataset/train/images'\n",
        "train_labels_path = '/content/drive/MyDrive/dataset/train/labels'\n",
        "\n",
        "old_train_images_path = '/content/drive/MyDrive/VisDrone2019-MOT-train/sequences'\n",
        "old_train_labels_path = '/content/drive/MyDrive/VisDrone2019-MOT-train/annotations'"
      ]
    },
    {
      "cell_type": "code",
      "execution_count": null,
      "metadata": {
        "id": "JNzrG8n6o8Nw"
      },
      "outputs": [],
      "source": [
        "shutil.copytree(old_train_images_path, train_images_path)"
      ]
    },
    {
      "cell_type": "code",
      "execution_count": null,
      "metadata": {
        "id": "JJ0MnWrYo8Nx"
      },
      "outputs": [],
      "source": [
        "shutil.copytree(old_train_labels_path, train_labels_path)"
      ]
    },
    {
      "cell_type": "code",
      "execution_count": null,
      "metadata": {
        "id": "J7HL2P6no8Ny"
      },
      "outputs": [],
      "source": [
        "rename_images(train_images_path)"
      ]
    },
    {
      "cell_type": "markdown",
      "metadata": {
        "id": "_oRJqI91o8Ny"
      },
      "source": [
        "**val**"
      ]
    },
    {
      "cell_type": "code",
      "execution_count": null,
      "metadata": {
        "id": "nE1I-9uKo8Ny"
      },
      "outputs": [],
      "source": [
        "val_images_path = '/content/drive/MyDrive/dataset/val/images'\n",
        "val_labels_path = '/content/drive/MyDrive/dataset/val/labels'\n",
        "\n",
        "old_val_images_path = '/content/drive/MyDrive/VisDrone2019-MOT-val/sequences'\n",
        "old_val_labels_path = '/content/drive/MyDrive/VisDrone2019-MOT-val/annotations'"
      ]
    },
    {
      "cell_type": "code",
      "execution_count": null,
      "metadata": {
        "id": "7VFhrE6Jo8Nz"
      },
      "outputs": [],
      "source": [
        "shutil.copytree(old_val_images_path, val_images_path)"
      ]
    },
    {
      "cell_type": "code",
      "execution_count": null,
      "metadata": {
        "id": "xMBgTNkZo8Nz"
      },
      "outputs": [],
      "source": [
        "shutil.copytree(old_val_labels_path, val_labels_path)"
      ]
    },
    {
      "cell_type": "code",
      "execution_count": null,
      "metadata": {
        "id": "LPvE8Okyo8N0"
      },
      "outputs": [],
      "source": [
        "rename_images(val_images_path)"
      ]
    },
    {
      "cell_type": "markdown",
      "metadata": {
        "id": "8rpwFXWrrRqA"
      },
      "source": [
        "**test**"
      ]
    },
    {
      "cell_type": "code",
      "execution_count": null,
      "metadata": {
        "id": "Cmp9TrH6rQ3g"
      },
      "outputs": [],
      "source": [
        "test_images_path = '/content/drive/MyDrive/dataset/test/images'\n",
        "test_labels_path = '/content/drive/MyDrive/dataset/test/labels'\n",
        "\n",
        "old_test_images_path = '/content/drive/MyDrive/VisDrone2019-MOT-test/sequences'\n",
        "old_test_labels_path = '/content/drive/MyDrive/VisDrone2019-MOT-test/annotations'"
      ]
    },
    {
      "cell_type": "code",
      "execution_count": null,
      "metadata": {
        "id": "jDDUad8SrVUs"
      },
      "outputs": [],
      "source": [
        "shutil.copytree(old_test_images_path, test_images_path)"
      ]
    },
    {
      "cell_type": "code",
      "execution_count": null,
      "metadata": {
        "id": "c-NYwbF_rW1e"
      },
      "outputs": [],
      "source": [
        "shutil.copytree(old_test_labels_path, test_labels_path)"
      ]
    },
    {
      "cell_type": "code",
      "execution_count": null,
      "metadata": {
        "id": "JVxvYmR1rXqF"
      },
      "outputs": [],
      "source": [
        "rename_images(test_images_path)"
      ]
    },
    {
      "cell_type": "markdown",
      "metadata": {
        "id": "hYgFgM68o8N0"
      },
      "source": [
        "**visdrone labels to yolo labels**"
      ]
    },
    {
      "cell_type": "code",
      "execution_count": null,
      "metadata": {
        "id": "yidZotONssHg"
      },
      "outputs": [],
      "source": [
        "path1 = train_labels_path\n",
        "path2 = train_images_path\n",
        "\n",
        "for label_file in os.listdir(path1):\n",
        "    \n",
        "    label = get_label(path1 + '/' + label_file)\n",
        "    labels = split_label_by_frames(label, len([name for name in os.listdir(path2)\n",
        "                                               if name.startswith(label_file.rstrip('.txt'))]))\n",
        "    images_sizes = [Image.open(path2 + '/' + i).size for i in os.listdir(path2)\n",
        "                        if i.startswith(label_file.rstrip('.txt'))]\n",
        "    \n",
        "    right_labels = visdrone_to_yolo(labels, images_sizes)\n",
        "    labels_to_txt(right_labels, label_file, path1, path2)"
      ]
    },
    {
      "cell_type": "code",
      "execution_count": null,
      "metadata": {
        "id": "JF1wZf93IreD"
      },
      "outputs": [],
      "source": [
        "path1 = val_labels_path\n",
        "path2 = val_images_path\n",
        "\n",
        "for label_file in os.listdir(path1):\n",
        "    \n",
        "    label = get_label(os.path.join(path1, label_file))\n",
        "        \n",
        "    labels = split_label_by_frames(label, len([name for name in os.listdir(path2) if name.startswith(label_file.rstrip('.txt'))]))\n",
        "    \n",
        "    images_sizes = [Image.open(os.path.join(path2, i)).size for i in os.listdir(path2) if i.startswith(label_file.rstrip('.txt'))]\n",
        "    \n",
        "    right_labels = visdrone_to_yolo(labels, images_sizes)\n",
        "    labels_to_txt(right_labels, label_file, path1, path2)"
      ]
    },
    {
      "cell_type": "code",
      "execution_count": null,
      "metadata": {
        "id": "EzlNm2PLIsj5"
      },
      "outputs": [],
      "source": [
        "path1 = test_labels_path\n",
        "path2 = test_images_path\n",
        "\n",
        "for label_file in os.listdir(path1):\n",
        "    \n",
        "    label = get_label(path1 + '/' + label_file)\n",
        "    labels = split_label_by_frames(label, len([name for name in os.listdir(path2)\n",
        "                                               if name.startswith(label_file.rstrip('.txt'))]))\n",
        "    images_sizes = [Image.open(path2 + '/' + i).size for i in os.listdir(path2)\n",
        "                        if i.startswith(label_file.rstrip('.txt'))]\n",
        "    \n",
        "    right_labels = visdrone_to_yolo(labels, images_sizes)\n",
        "    labels_to_txt(right_labels, label_file, path1, path2)"
      ]
    },
    {
      "cell_type": "code",
      "execution_count": null,
      "metadata": {
        "id": "v5mFHbRA3-RN"
      },
      "outputs": [],
      "source": [
        "path = '/content/drive/MyDrive/dataset/val/labels'\n",
        "\n",
        "def get_label(path):\n",
        "    with open(path, 'r') as f:\n",
        "        label = [line.strip('\\n').split(' ') for line in f.readlines()]\n",
        "    return label\n",
        "\n",
        "\n",
        "def change_label(label):\n",
        "\n",
        "    new_label = [label[i] for i in range(len(label)) if label[i][0] != '0' and label[i][0] != '11']\n",
        "\n",
        "    for i in range(len(new_label)):\n",
        "        if new_label[i][0] == '1':\n",
        "            new_label[i][0] = '0'\n",
        "        elif new_label[i][0] == '2':\n",
        "            new_label[i][0] = '1'\n",
        "        elif new_label[i][0] == '3':\n",
        "            new_label[i][0] = '2'\n",
        "        elif new_label[i][0] == '4':\n",
        "            new_label[i][0] = '3'\n",
        "        elif new_label[i][0] == '5':\n",
        "            new_label[i][0] = '4'\n",
        "        elif new_label[i][0] == '6':\n",
        "            new_label[i][0] = '5'\n",
        "        elif new_label[i][0] == '7':\n",
        "            new_label[i][0] = '6'\n",
        "        elif new_label[i][0] == '8':\n",
        "            new_label[i][0] = '7'\n",
        "        elif new_label[i][0] == '9':\n",
        "            new_label[i][0] = '8'\n",
        "        elif new_label[i][0] == '10':\n",
        "            new_label[i][0] = '9'\n",
        "\n",
        "    return new_label\n",
        "\n",
        "\n",
        "def print_new_label(new_label, path):\n",
        "    with open(path, 'w') as f:\n",
        "        for i in range(len(new_label)):\n",
        "            for j in range(len(new_label[i])):\n",
        "                f.write(new_label[i][j])\n",
        "                if j != len(new_label[i]):\n",
        "                    f.write(' ')\n",
        "            if i != len(new_label):\n",
        "                f.write('\\n')\n",
        "\n",
        "\n",
        "for i in os.listdir(path):\n",
        "        label = get_label(os.path.join(path, i))\n",
        "        new_label = change_label(label)\n",
        "        print_new_label(new_label, os.path.join(path, i))"
      ]
    },
    {
      "cell_type": "code",
      "execution_count": null,
      "metadata": {
        "id": "kNszLOrBfKLD"
      },
      "outputs": [],
      "source": [
        "! python strong_sort.py MOT20 test --NSA --EMA --MC --woC --AFLink --GSI"
      ]
    },
    {
      "cell_type": "markdown",
      "metadata": {
        "id": "07kIK8HK4pqg"
      },
      "source": [
        "# **Video From Images**"
      ]
    },
    {
      "cell_type": "code",
      "execution_count": null,
      "metadata": {
        "id": "amaflDg-5tYK"
      },
      "outputs": [],
      "source": [
        "image_folder='/content/drive/MyDrive/images'\n",
        "fps=20\n",
        "\n",
        "image_files = [os.path.join(image_folder,img)\n",
        "               for img in os.listdir(image_folder)\n",
        "               if img.endswith(\".jpg\")]\n",
        "\n",
        "clip = moviepy.video.io.ImageSequenceClip.ImageSequenceClip(image_files, fps=fps)\n",
        "clip.write_videofile('test.mp4')"
      ]
    },
    {
      "cell_type": "markdown",
      "metadata": {
        "id": "nfiF6qcUOSS-"
      },
      "source": [
        "# **YOLOv5 + StrongSORT**"
      ]
    },
    {
      "cell_type": "code",
      "execution_count": null,
      "metadata": {
        "id": "Yc0BEE08vK7n"
      },
      "outputs": [],
      "source": [
        "%cd /content/drive/MyDrive/yolov5\n",
        "! pip install -r requirements.txt"
      ]
    },
    {
      "cell_type": "code",
      "execution_count": null,
      "metadata": {
        "id": "H_LUvxUbvwpv"
      },
      "outputs": [],
      "source": [
        "! python val.py --batch-size 32 --weights /content/drive/MyDrive/weights/yolov5x-40-epochs-VisDrone-upd.pt --data /content/drive/MyDrive/dataset/dataset.yaml"
      ]
    },
    {
      "cell_type": "code",
      "execution_count": null,
      "metadata": {
        "id": "EGRqm9_2tjLb"
      },
      "outputs": [],
      "source": [
        "%cd /content/drive/MyDrive\n",
        "%cd tph-yolov5\n",
        "! pip install -r requirements.txt"
      ]
    },
    {
      "cell_type": "code",
      "execution_count": null,
      "metadata": {
        "id": "EVMXD0Ndwt90"
      },
      "outputs": [],
      "source": [
        "! pip install torchvision==0.10.1\n",
        "! pip install torch==1.9.1"
      ]
    },
    {
      "cell_type": "code",
      "execution_count": null,
      "metadata": {
        "id": "UlE4xv33t4jn"
      },
      "outputs": [],
      "source": [
        "! python val.py --weights /content/drive/MyDrive/weights/yolov5l-xs-1.pt --data /content/drive/MyDrive/dataset/dataset.yaml --augment --save-txt  --save-conf --task val --batch-size 64 --verbose --name v5l-tph-plus"
      ]
    },
    {
      "cell_type": "code",
      "execution_count": null,
      "metadata": {
        "id": "uX6yVs-yW1s7"
      },
      "outputs": [],
      "source": [
        "%cd /content/drive/MyDrive/yolov8_tracking\n",
        "! pip install -r requirements.txt"
      ]
    },
    {
      "cell_type": "code",
      "execution_count": null,
      "metadata": {
        "id": "5tRkW-IR5xxJ"
      },
      "outputs": [],
      "source": [
        "from yolov5.utils.dataloaders import LoadImages\n",
        "from yolov5.utils.plots import Annotator, colors, save_one_box\n",
        "from yolov5.utils.general import (LOGGER, Profile, check_img_size, non_max_suppression, scale_boxes, check_requirements, cv2,\n",
        "                                  check_imshow, xyxy2xywh, increment_path, strip_optimizer, colorstr, print_args, check_file)"
      ]
    },
    {
      "cell_type": "code",
      "execution_count": null,
      "metadata": {
        "id": "aT3o_16ndEmz"
      },
      "outputs": [],
      "source": [
        "! python track.py --source /content/drive/MyDrive/dataset/val/sequences/uav0000117_02622_v --tracking-method strongsort --yolo-weights /content/drive/MyDrive/weights/yolov5imprv-40epochs-VisDrone.pt --reid-weights osnet_x0_25_market1501.pt --save-txt --save-vid"
      ]
    },
    {
      "cell_type": "markdown",
      "metadata": {
        "id": "QlqQ4vGrqvWu"
      },
      "source": [
        "# **GSI**"
      ]
    },
    {
      "cell_type": "code",
      "execution_count": null,
      "metadata": {
        "id": "VGMjgLNoqzx3"
      },
      "outputs": [],
      "source": [
        "def LinearInterpolation(input_, interval):\n",
        "    input_ = input_[np.lexsort([input_[:, 0], input_[:, 1]])]\n",
        "    output_ = input_.copy()\n",
        "    id_pre, f_pre, row_pre = -1, -1, np.zeros((10,))\n",
        "    for row in input_:\n",
        "        f_curr, id_curr = row[:2].astype(int)\n",
        "        if id_curr == id_pre:\n",
        "            if f_pre + 1 < f_curr < f_pre + interval:\n",
        "                for i, f in enumerate(range(f_pre + 1, f_curr), start=1):\n",
        "                    step = (row - row_pre) / (f_curr - f_pre) * i\n",
        "                    row_new = row_pre + step\n",
        "                    output_ = np.append(output_, row_new[np.newaxis, :], axis=0)\n",
        "        else:\n",
        "            id_pre = id_curr\n",
        "        row_pre = row\n",
        "        f_pre = f_curr\n",
        "    output_ = output_[np.lexsort([output_[:, 0], output_[:, 1]])]\n",
        "    return output_\n",
        "\n",
        "\n",
        "def GaussianSmooth(input_, tau):\n",
        "    output_ = []\n",
        "    ids = set(input_[:, 1])\n",
        "    for id_ in ids:\n",
        "        tracks = input_[input_[:, 1] == id_]\n",
        "        len_scale = np.clip(tau * np.log(tau ** 3 / len(tracks)), tau ** -1, tau ** 2)\n",
        "        gpr = GPR(RBF(len_scale, 'fixed'))\n",
        "        t = tracks[:, 0].reshape(-1, 1)\n",
        "        x = tracks[:, 2].reshape(-1, 1)\n",
        "        y = tracks[:, 3].reshape(-1, 1)\n",
        "        w = tracks[:, 4].reshape(-1, 1)\n",
        "        h = tracks[:, 5].reshape(-1, 1)\n",
        "\n",
        "        gpr.fit(t, x)\n",
        "        xx = gpr.predict(t)\n",
        "        gpr.fit(t, y)\n",
        "        yy = gpr.predict(t)\n",
        "        gpr.fit(t, w)\n",
        "        ww = gpr.predict(t)\n",
        "        gpr.fit(t, h)\n",
        "        hh = gpr.predict(t)\n",
        "        output_.extend([\n",
        "            [t[i, 0], id_, xx[i], yy[i], ww[i], hh[i], 1, -1, -1 , -1, tracks[i, -1]] for i in range(len(t))\n",
        "        ])\n",
        "    return np.array(output_)\n",
        "\n",
        "\n",
        "def GSInterpolation(path_in, path_out, interval, tau):\n",
        "    input_ = np.loadtxt(path_in)\n",
        "    li = LinearInterpolation(input_, interval)\n",
        "    gsi = GaussianSmooth(li, tau)\n",
        "    gsi = gsi[np.lexsort([gsi[:, 1], gsi[:, 0]])]\n",
        "    np.savetxt(path_out.rstrip('.txt') + '-gsi.txt', gsi, fmt='%d %d %.2f %.2f %.2f %.2f %.2f %d %d %d %d')"
      ]
    },
    {
      "cell_type": "code",
      "execution_count": null,
      "metadata": {
        "id": "WleuUZimqyWG"
      },
      "outputs": [],
      "source": [
        "path_save = '/content/drive/MyDrive/yolov8_tracking/runs/track/exp28/tracks/uav0000117_02622_v.txt'\n",
        "\n",
        "GSInterpolation(path_in=path_save, path_out=path_save, interval=5, tau=9)"
      ]
    },
    {
      "cell_type": "code",
      "execution_count": null,
      "metadata": {
        "id": "s_FKBxaZnKjQ"
      },
      "outputs": [],
      "source": [
        "path = '/content/drive/MyDrive/yolov8_tracking/runs/track/exp28/imgs'\n",
        "\n",
        "if os.path.exists(path):\n",
        "    shutil.rmtree(path)\n",
        "\n",
        "if not os.path.exists(path):\n",
        "    os.makedirs(path)"
      ]
    },
    {
      "cell_type": "code",
      "execution_count": null,
      "metadata": {
        "id": "EXSk8sJDwmM-"
      },
      "outputs": [],
      "source": [
        "source = '/content/drive/MyDrive/dataset/val/sequences/uav0000117_02622_v'\n",
        "gsi_path = '/content/drive/MyDrive/yolov8_tracking/runs/track/exp28/tracks/uav0000117_02622_v-gsi.txt'\n",
        "gsi_np = np.loadtxt(gsi_path)"
      ]
    },
    {
      "cell_type": "code",
      "execution_count": null,
      "metadata": {
        "id": "rqgW08phEFQ2"
      },
      "outputs": [],
      "source": [
        "dataset = LoadImages(source)\n",
        "names = ['pedestrian', 'people', 'bicycle', 'car', 'van', 'truck', 'tricycle', 'awning-tricycle', 'bus', 'motor']"
      ]
    },
    {
      "cell_type": "code",
      "execution_count": null,
      "metadata": {
        "id": "xzXotsD2B75Q"
      },
      "outputs": [],
      "source": [
        "i = 0\n",
        "img_path = '/content/drive/MyDrive/yolov8_tracking/runs/track/exp28/imgs'\n",
        "for frame_idx, (path, im, im0s, vid_cap, s) in enumerate(dataset):\n",
        "    im0 = im0s.copy()\n",
        "    annotator = Annotator(im0, line_width=2, example=str(names))\n",
        "    for gsi_np_obj in gsi_np:\n",
        "        if gsi_np_obj[0] == frame_idx:\n",
        "            bboxes = gsi_np_obj[2:6]\n",
        "            bboxes[2] = bboxes[2] + bboxes[0]\n",
        "            bboxes[3] = bboxes[3] + bboxes[1]\n",
        "            id = gsi_np_obj[1]\n",
        "            cls = gsi_np_obj[-1]\n",
        "            c = int(cls)\n",
        "            id = int(id)\n",
        "            label = (f'{id} {names[c]}')\n",
        "            color = colors(c, True)\n",
        "            annotator.box_label(bboxes, label, color=color)\n",
        "    im0 = annotator.result()\n",
        "            \n",
        "    cv2.imwrite(img_path + '/' + str(i) + '.jpg', im0)\n",
        "    i += 1"
      ]
    },
    {
      "cell_type": "markdown",
      "source": [
        "# **The End**"
      ],
      "metadata": {
        "id": "JWgYNobML4kc"
      }
    }
  ],
  "metadata": {
    "accelerator": "GPU",
    "colab": {
      "collapsed_sections": [
        "vnUfuqKTo8Nf",
        "07kIK8HK4pqg"
      ],
      "provenance": []
    },
    "gpuClass": "standard",
    "kernelspec": {
      "display_name": "Python 3",
      "name": "python3"
    },
    "language_info": {
      "name": "python"
    }
  },
  "nbformat": 4,
  "nbformat_minor": 0
}